{
 "cells": [
  {
   "cell_type": "code",
   "execution_count": 1,
   "metadata": {},
   "outputs": [],
   "source": [
    "import pandas as pd\n",
    "import seaborn as sns\n",
    "import matplotlib.pyplot as plt"
   ]
  },
  {
   "cell_type": "code",
   "execution_count": 2,
   "metadata": {},
   "outputs": [
    {
     "name": "stderr",
     "output_type": "stream",
     "text": [
      "/usr/local/lib/python3.6/dist-packages/IPython/core/interactiveshell.py:3058: DtypeWarning: Columns (61,62,94) have mixed types. Specify dtype option on import or set low_memory=False.\n",
      "  interactivity=interactivity, compiler=compiler, result=result)\n"
     ]
    }
   ],
   "source": [
    "data_cal = pd.read_csv(\"calendar.csv\")\n",
    "data_lis = pd.read_csv(\"listings.csv\")\n",
    "data_rev = pd.read_csv(\"reviews.csv\")"
   ]
  },
  {
   "cell_type": "code",
   "execution_count": 3,
   "metadata": {},
   "outputs": [],
   "source": [
    "#Sobre a base Calendar"
   ]
  },
  {
   "cell_type": "code",
   "execution_count": 4,
   "metadata": {},
   "outputs": [
    {
     "name": "stdout",
     "output_type": "stream",
     "text": [
      "Calendar.csv\n",
      "Número de Instâncias: 90578096\n",
      "Atributos: 7\n",
      "listing_id          int64\n",
      "date               object\n",
      "available          object\n",
      "price             float64\n",
      "adjusted_price     object\n",
      "minimum_nights    float64\n",
      "maximum_nights    float64\n",
      "dtype: object \n",
      "\n",
      "Valores faltantes:\n",
      "minimum_nights 18\n",
      "maximum_nights 18\n"
     ]
    }
   ],
   "source": [
    "print(\"Calendar.csv\")\n",
    "print(\"Número de Instâncias:\", data_cal.size)\n",
    "data_cal['price'] = data_cal['price'].replace('[\\$,]', '', regex=True).astype(float)\n",
    "print(\"Atributos:\", len(data_cal.columns.values))\n",
    "print(data_cal.dtypes, \"\\n\")\n",
    "print(\"Valores faltantes:\")\n",
    "for col in data_cal.columns:\n",
    "    if(data_cal[col].isna().sum() != 0):\n",
    "        print(col, data_cal[col].isna().sum())        \n",
    "#for col in data_cal.columns.values:\n",
    "#plt.figure(figsize=(15, 10))\n",
    "#sns.countplot(x=data_cal.price, data=data_cal).set(xlim=(0,5))"
   ]
  },
  {
   "cell_type": "code",
   "execution_count": 23,
   "metadata": {},
   "outputs": [
    {
     "name": "stdout",
     "output_type": "stream",
     "text": [
      "1809\n"
     ]
    }
   ],
   "source": [
    "prices = list(data_cal[\"price\"].value_counts().keys())\n",
    "counts = list(data_cal[\"price\"].value_counts())\n",
    "\n",
    "for i in range(len(prices)):\n",
    "    if(counts[i] <= 100):\n",
    "        prices = prices[:i]\n",
    "        break\n",
    "        \n",
    "print(len(prices))\n"
   ]
  },
  {
   "cell_type": "code",
   "execution_count": 20,
   "metadata": {},
   "outputs": [
    {
     "name": "stdout",
     "output_type": "stream",
     "text": [
      "Listings.csv\n",
      "Número de Instâncias: 3757806\n",
      "Atributos: 106\n",
      "object     61\n",
      "float64    24\n",
      "int64      21\n",
      "dtype: int64 \n",
      "\n",
      "['id', 'listing_url', 'scrape_id', 'last_scraped', 'name', 'summary', 'space', 'description', 'experiences_offered', 'neighborhood_overview', 'notes', 'transit', 'access', 'interaction', 'house_rules', 'thumbnail_url', 'medium_url', 'picture_url', 'xl_picture_url', 'host_id', 'host_url', 'host_name', 'host_since', 'host_location', 'host_about', 'host_response_time', 'host_response_rate', 'host_acceptance_rate', 'host_is_superhost', 'host_thumbnail_url', 'host_picture_url', 'host_neighbourhood', 'host_listings_count', 'host_total_listings_count', 'host_verifications', 'host_has_profile_pic', 'host_identity_verified', 'street', 'neighbourhood', 'neighbourhood_cleansed', 'neighbourhood_group_cleansed', 'city', 'state', 'zipcode', 'market', 'smart_location', 'country_code', 'country', 'latitude', 'longitude', 'is_location_exact', 'property_type', 'room_type', 'accommodates', 'bathrooms', 'bedrooms', 'beds', 'bed_type', 'amenities', 'square_feet', 'price', 'weekly_price', 'monthly_price', 'security_deposit', 'cleaning_fee', 'guests_included', 'extra_people', 'minimum_nights', 'maximum_nights', 'minimum_minimum_nights', 'maximum_minimum_nights', 'minimum_maximum_nights', 'maximum_maximum_nights', 'minimum_nights_avg_ntm', 'maximum_nights_avg_ntm', 'calendar_updated', 'has_availability', 'availability_30', 'availability_60', 'availability_90', 'availability_365', 'calendar_last_scraped', 'number_of_reviews', 'number_of_reviews_ltm', 'first_review', 'last_review', 'review_scores_rating', 'review_scores_accuracy', 'review_scores_cleanliness', 'review_scores_checkin', 'review_scores_communication', 'review_scores_location', 'review_scores_value', 'requires_license', 'license', 'jurisdiction_names', 'instant_bookable', 'is_business_travel_ready', 'cancellation_policy', 'require_guest_profile_picture', 'require_guest_phone_verification', 'calculated_host_listings_count', 'calculated_host_listings_count_entire_homes', 'calculated_host_listings_count_private_rooms', 'calculated_host_listings_count_shared_rooms', 'reviews_per_month'] \n",
      "\n",
      "Valores faltantes:\n",
      "name 66\n",
      "summary 1747\n",
      "space 13794\n",
      "description 772\n",
      "neighborhood_overview 16180\n",
      "notes 24043\n",
      "transit 16389\n",
      "access 18351\n",
      "interaction 18124\n",
      "house_rules 17369\n",
      "thumbnail_url 35451\n",
      "medium_url 35451\n",
      "xl_picture_url 35451\n",
      "host_name 60\n",
      "host_since 60\n",
      "host_location 227\n",
      "host_about 18449\n",
      "host_response_time 16606\n",
      "host_response_rate 16606\n",
      "host_acceptance_rate 35451\n",
      "host_is_superhost 60\n",
      "host_thumbnail_url 60\n",
      "host_picture_url 60\n",
      "host_neighbourhood 13158\n",
      "host_listings_count 60\n",
      "host_total_listings_count 60\n",
      "host_has_profile_pic 60\n",
      "host_identity_verified 60\n",
      "neighbourhood 1941\n",
      "neighbourhood_group_cleansed 35451\n",
      "city 39\n",
      "state 49\n",
      "zipcode 1822\n",
      "market 47\n",
      "bathrooms 68\n",
      "bedrooms 23\n",
      "beds 44\n",
      "square_feet 34898\n",
      "weekly_price 32549\n",
      "monthly_price 32259\n",
      "security_deposit 16222\n",
      "cleaning_fee 12234\n",
      "first_review 16472\n",
      "last_review 16472\n",
      "review_scores_rating 17455\n",
      "review_scores_accuracy 17473\n",
      "review_scores_cleanliness 17468\n",
      "review_scores_checkin 17475\n",
      "review_scores_communication 17468\n",
      "review_scores_location 17471\n",
      "review_scores_value 17472\n",
      "license 35448\n",
      "jurisdiction_names 35451\n",
      "reviews_per_month 16472\n",
      "\n",
      "\n",
      "Atributos do Host: 18\n",
      "['host_id', 'host_url', 'host_name', 'host_since', 'host_location', 'host_about', 'host_response_time', 'host_response_rate', 'host_acceptance_rate', 'host_is_superhost', 'host_thumbnail_url', 'host_picture_url', 'host_neighbourhood', 'host_listings_count', 'host_total_listings_count', 'host_verifications', 'host_has_profile_pic', 'host_identity_verified']\n"
     ]
    }
   ],
   "source": [
    "print(\"Listings.csv\")\n",
    "print(\"Número de Instâncias:\", data_lis.size)\n",
    "print(\"Atributos:\", len(data_lis.columns.values))\n",
    "print(data_lis.dtypes.value_counts(), \"\\n\")\n",
    "\n",
    "print(list(data_lis.columns), \"\\n\")\n",
    "\n",
    "print(\"Valores faltantes:\")\n",
    "for col in data_lis.columns:\n",
    "    if(data_lis[col].isna().sum() != 0):\n",
    "        print(col, data_lis[col].isna().sum())\n",
    "print(\"\\n\")\n",
    "\n",
    "host = list(data_lis.columns[19:37])\n",
    "print(\"Atributos do Host:\", len(host))\n",
    "print(host)"
   ]
  },
  {
   "cell_type": "code",
   "execution_count": 32,
   "metadata": {},
   "outputs": [
    {
     "name": "stdout",
     "output_type": "stream",
     "text": [
      "Reviews.csv\n",
      "Número de Instâncias: 1691430\n",
      "Atributos: 6\n",
      "listing_id        int64\n",
      "id                int64\n",
      "date             object\n",
      "reviewer_id       int64\n",
      "reviewer_name    object\n",
      "comments         object\n",
      "dtype: object \n",
      "\n",
      "Valores faltantes:\n",
      "comments 62\n"
     ]
    }
   ],
   "source": [
    "print(\"Reviews.csv\")\n",
    "print(\"Número de Instâncias:\", data_rev.size)\n",
    "print(\"Atributos:\", len(data_rev.columns.values))\n",
    "print(data_rev.dtypes, \"\\n\")\n",
    "print(\"Valores faltantes:\")\n",
    "for col in data_rev.columns:\n",
    "    if(data_rev[col].isna().sum() != 0):\n",
    "        print(col, data_rev[col].isna().sum())"
   ]
  },
  {
   "cell_type": "code",
   "execution_count": null,
   "metadata": {},
   "outputs": [],
   "source": []
  }
 ],
 "metadata": {
  "kernelspec": {
   "display_name": "Python 3",
   "language": "python",
   "name": "python3"
  },
  "language_info": {
   "codemirror_mode": {
    "name": "ipython",
    "version": 3
   },
   "file_extension": ".py",
   "mimetype": "text/x-python",
   "name": "python",
   "nbconvert_exporter": "python",
   "pygments_lexer": "ipython3",
   "version": "3.6.8"
  }
 },
 "nbformat": 4,
 "nbformat_minor": 2
}
