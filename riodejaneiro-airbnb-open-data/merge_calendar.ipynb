{
 "cells": [
  {
   "cell_type": "code",
   "execution_count": 2,
   "metadata": {},
   "outputs": [],
   "source": [
    "import pandas as pd\n",
    "import gc\n",
    "import psutil\n",
    "from sys import getsizeof\n",
    "import math"
   ]
  },
  {
   "cell_type": "code",
   "execution_count": 3,
   "metadata": {},
   "outputs": [
    {
     "name": "stdout",
     "output_type": "stream",
     "text": [
      "Dataframe atual: 13\n",
      "(14189375, 4)\n",
      "Dataframe atual: 14\n",
      "(14406550, 4)\n",
      "Dataframe atual: 15\n",
      "(14505100, 4)\n",
      "(23117759, 4)\n",
      "Fim\n"
     ]
    }
   ],
   "source": [
    "dataframe = pd.DataFrame()\n",
    "for i in range(13,16):\n",
    "    print(\"Dataframe atual:\", i)\n",
    "    data = pd.read_csv(\"calendar\"+str(i)+\".csv\")\n",
    "    print(data.shape)\n",
    "    #print(\"Tamanho do Data:\", getsizeof(data)*(9.31*math.pow(10,-10)), \"GB\")\n",
    "    dataframe = pd.concat([dataframe, data]).drop_duplicates().reset_index(drop=True)\n",
    "    #print(\"Tamanho do Dataset Final:\", getsizeof(dataframe)*(9.31*math.pow(10,-10)), \"GB\")\n",
    "    #print(\"Memória RAM utilizada:\", psutil.virtual_memory()[2])\n",
    "    del data\n",
    "    gc.collect()\n",
    "    #print(\"Memória RAM utilizada:\", psutil.virtual_memory()[2])\n",
    "#print(\"Escrevendo...\")\n",
    "#dataframe.to_csv(\"calendar_0418_0719\", index=False)\n",
    "print(dataframe.shape)\n",
    "print(\"Fim\")\n",
    "    "
   ]
  },
  {
   "cell_type": "code",
   "execution_count": 32,
   "metadata": {},
   "outputs": [
    {
     "data": {
      "text/html": [
       "<div>\n",
       "<style scoped>\n",
       "    .dataframe tbody tr th:only-of-type {\n",
       "        vertical-align: middle;\n",
       "    }\n",
       "\n",
       "    .dataframe tbody tr th {\n",
       "        vertical-align: top;\n",
       "    }\n",
       "\n",
       "    .dataframe thead th {\n",
       "        text-align: right;\n",
       "    }\n",
       "</style>\n",
       "<table border=\"1\" class=\"dataframe\">\n",
       "  <thead>\n",
       "    <tr style=\"text-align: right;\">\n",
       "      <th></th>\n",
       "      <th>listing_id</th>\n",
       "      <th>date</th>\n",
       "      <th>available</th>\n",
       "      <th>price</th>\n",
       "    </tr>\n",
       "  </thead>\n",
       "  <tbody>\n",
       "    <tr>\n",
       "      <th>341</th>\n",
       "      <td>759077</td>\n",
       "      <td>2018-08-06</td>\n",
       "      <td>t</td>\n",
       "      <td>$350.00</td>\n",
       "    </tr>\n",
       "    <tr>\n",
       "      <th>16963173</th>\n",
       "      <td>759077</td>\n",
       "      <td>2018-08-06</td>\n",
       "      <td>t</td>\n",
       "      <td>$106.00</td>\n",
       "    </tr>\n",
       "  </tbody>\n",
       "</table>\n",
       "</div>"
      ],
      "text/plain": [
       "          listing_id        date available    price\n",
       "341           759077  2018-08-06         t  $350.00\n",
       "16963173      759077  2018-08-06         t  $106.00"
      ]
     },
     "execution_count": 32,
     "metadata": {},
     "output_type": "execute_result"
    }
   ],
   "source": [
    "d = dataframe[dataframe[\"listing_id\"] == 759077]\n",
    "d1 = d[d[\"date\"]==\"2018-08-06\"]\n",
    "d1.head()"
   ]
  },
  {
   "cell_type": "code",
   "execution_count": 23,
   "metadata": {},
   "outputs": [
    {
     "data": {
      "text/plain": [
       "Index(['listing_id', 'date', 'available', 'price'], dtype='object')"
      ]
     },
     "execution_count": 23,
     "metadata": {},
     "output_type": "execute_result"
    }
   ],
   "source": [
    "dataframe.columns"
   ]
  },
  {
   "cell_type": "code",
   "execution_count": null,
   "metadata": {},
   "outputs": [],
   "source": []
  }
 ],
 "metadata": {
  "kernelspec": {
   "display_name": "Python 3",
   "language": "python",
   "name": "python3"
  },
  "language_info": {
   "codemirror_mode": {
    "name": "ipython",
    "version": 3
   },
   "file_extension": ".py",
   "mimetype": "text/x-python",
   "name": "python",
   "nbconvert_exporter": "python",
   "pygments_lexer": "ipython3",
   "version": "3.6.8"
  }
 },
 "nbformat": 4,
 "nbformat_minor": 2
}
